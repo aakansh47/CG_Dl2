{
 "cells": [
  {
   "cell_type": "code",
   "execution_count": 1,
   "metadata": {},
   "outputs": [],
   "source": [
    "import os\n",
    "import re\n",
    "from shutil import copy2\n",
    "\n",
    "import matplotlib.image as mpimg\n",
    "import matplotlib.pyplot as plt\n",
    "import numpy as np\n",
    "import torch\n",
    "from skimage.color import lab2rgb"
   ]
  },
  {
   "cell_type": "code",
   "execution_count": 4,
   "metadata": {},
   "outputs": [],
   "source": [
    "class Utils:\n",
    "    \n",
    "    @staticmethod\n",
    "    def train_test_split():\n",
    "        os.makedirs('images/train/class/', exist_ok=True)\n",
    "        os.makedirs('images/test/class/', exist_ok=True)\n",
    "        # os.makedirs('data/val/class', exist_ok=True)\n",
    "\n",
    "        no_of_images = len(next(os.walk('face_images'))[2])\n",
    "        print(\"Number of images - \", no_of_images)\n",
    "\n",
    "        for i, file in enumerate(os.listdir('face_images')):\n",
    "            if i < (0.1 * no_of_images):  # first 10% will be val\n",
    "                copy2('face_images/' + file, 'images/test/class/' + file)\n",
    "                continue\n",
    "            else:  # others will be train\n",
    "                copy2('face_images/' + file, 'images/train/class/' + file)\n",
    "\n",
    "        print(\"Training Set Size : \", len(next(os.walk('images/train/class'))[2]))\n",
    "        # print(\"Validation Set Size : \", len(next(os.walk('data/val/class'))[2]))\n",
    "        print(\"Test Set Size : \", len(next(os.walk('images/test/class'))[2]))\n"
   ]
  },
  {
   "cell_type": "code",
   "execution_count": null,
   "metadata": {},
   "outputs": [],
   "source": []
  }
 ],
 "metadata": {
  "kernelspec": {
   "display_name": "NGC-PyTorch-1.9",
   "language": "python",
   "name": "ngc-pytorch-1.9"
  },
  "language_info": {
   "codemirror_mode": {
    "name": "ipython",
    "version": 3
   },
   "file_extension": ".py",
   "mimetype": "text/x-python",
   "name": "python",
   "nbconvert_exporter": "python",
   "pygments_lexer": "ipython3",
   "version": "3.8.8"
  }
 },
 "nbformat": 4,
 "nbformat_minor": 4
}
