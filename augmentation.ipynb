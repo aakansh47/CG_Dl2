{
 "cells": [
  {
   "cell_type": "code",
   "execution_count": null,
   "metadata": {},
   "outputs": [],
   "source": [
    "import numpy as np\n",
    "import torch\n",
    "from skimage.color import rgb2lab, rgb2gray\n",
    "from torchvision import datasets"
   ]
  },
  {
   "cell_type": "markdown",
   "metadata": {},
   "source": [
    "class Augment(datasets.ImageFolder):\n",
    "    def __getitem__(self, index):\n",
    "        global img_a, img_b, img_gray\n",
    "        path, target = self.imgs[index]\n",
    "        img = self.loader(path)\n",
    "        if self.transform is not None:\n",
    "            img = self.transform(img)\n",
    "\n",
    "        original_image = np.asarray(img)\n",
    "\n",
    "        img_lab = rgb2lab(original_image)\n",
    "        img_lab = img_lab + 128\n",
    "        img_lab = img_lab / 255\n",
    "\n",
    "        img_a = img_lab[:, :, 1:2]\n",
    "        img_a = torch.from_numpy(img_a.transpose((2, 0, 1))).float()  # To match the channel dimensions\n",
    "\n",
    "        img_b = img_lab[:, :, 2:3]\n",
    "        # plt.imshow(img_b)\n",
    "        # plt.show()\n",
    "        img_b = torch.from_numpy(img_b.transpose((2, 0, 1))).float()\n",
    "\n",
    "        img_gray = rgb2gray(original_image)\n",
    "        # plt.imshow(img_gray)\n",
    "        # plt.show()\n",
    "        img_gray = torch.from_numpy(img_gray).unsqueeze(0).float()\n",
    "\n",
    "        return img_gray, img_a, img_b\n"
   ]
  }
 ],
 "metadata": {
  "language_info": {
   "name": "plaintext"
  },
  "orig_nbformat": 4
 },
 "nbformat": 4,
 "nbformat_minor": 2
}
