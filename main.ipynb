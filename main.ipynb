{
 "cells": [
  {
   "cell_type": "code",
   "execution_count": 1,
   "metadata": {},
   "outputs": [],
   "source": [
    "import os\n",
    "import glob"
   ]
  },
  {
   "cell_type": "code",
   "execution_count": null,
   "metadata": {},
   "outputs": [],
   "source": [
    "def data_loading():\n",
    "    images_path = glob.glob(r'face_images/*.jpg')\n",
    "    print(\"Total Number of Images\", len(images_path))\n",
    "    utils().train_test_split()\n",
    "    \n",
    "    training_images_path = glob.glob('data/train/class/*.jpg')\n",
    "    test_images_path = glob.glob('data/test/class/*.jpg')\n",
    "    \n",
    "    print(\"Total Number of training images\", len(training_images_path))\n",
    "    print(\"Total Number of testing images\", len(training_images_path))"
   ]
  },
  {
   "cell_type": "code",
   "execution_count": null,
   "metadata": {},
   "outputs": [],
   "source": [
    "blue_cis6930/aakansh.togani/CG_Dl2/face_images"
   ]
  }
 ],
 "metadata": {
  "kernelspec": {
   "display_name": "NGC-PyTorch-1.9",
   "language": "python",
   "name": "ngc-pytorch-1.9"
  },
  "language_info": {
   "codemirror_mode": {
    "name": "ipython",
    "version": 3
   },
   "file_extension": ".py",
   "mimetype": "text/x-python",
   "name": "python",
   "nbconvert_exporter": "python",
   "pygments_lexer": "ipython3",
   "version": "3.8.8"
  }
 },
 "nbformat": 4,
 "nbformat_minor": 4
}
