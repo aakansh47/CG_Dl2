{
 "cells": [
  {
   "cell_type": "code",
   "execution_count": 1,
   "metadata": {},
   "outputs": [],
   "source": [
    "import os\n",
    "import glob"
   ]
  },
  {
   "cell_type": "code",
   "execution_count": 2,
   "metadata": {},
   "outputs": [],
   "source": [
    "def data_loading():\n",
    "    images_path = glob.glob(r'face_images/*.jpg')\n",
    "    print(\"Total Number of Images\", len(images_path))\n",
    "    utils().train_test_split()\n",
    "    \n",
    "    training_images_path = glob.glob('data/train/class/*.jpg')\n",
    "    test_images_path = glob.glob('data/test/class/*.jpg')\n",
    "    \n",
    "    print(\"Total Number of training images\", len(training_images_path))\n",
    "    print(\"Total Number of testing images\", len(training_images_path))\n",
    "   \n",
    "    "
   ]
  },
  {
   "cell_type": "code",
   "execution_count": null,
   "metadata": {},
   "outputs": [],
   "source": [
    "def augmentation(cuda = False, num_workers = 1,\n",
    "                 activation_function = Constants.SIGMOID):\n",
    "          \n",
    "        \n",
    "        \n",
    "        transform = transforms.Compose([\n",
    "        transforms.Resize(128),\n",
    "        transforms.RandomHorizontalFlip(),\n",
    "        transforms.RandomResizedCrop(128)\n",
    "         ])\n",
    "        \n",
    "    training_images = []\n",
    "    # if condition can be inserted for multiple activation functions\n",
    "    training_images.append(buildDataset.Augment('data/train'))\n",
    "    for i in range(9):\n",
    "        training_images.append(buildDataset.Augment('data/train',transform))\n",
    "        \n",
    "    augmented_dataset = ConcatDataset(train_datasets)\n",
    "    print('Length of new Augmented Data', len(augmented_dataset))\n"
   ]
  },
  {
   "cell_type": "code",
   "execution_count": 3,
   "metadata": {},
   "outputs": [
    {
     "name": "stdout",
     "output_type": "stream",
     "text": [
      "Total Number of Images 750\n"
     ]
    }
   ],
   "source": [
    "data_loading();"
   ]
  },
  {
   "cell_type": "code",
   "execution_count": null,
   "metadata": {},
   "outputs": [],
   "source": []
  }
 ],
 "metadata": {
  "kernelspec": {
   "display_name": "NGC-PyTorch-1.9",
   "language": "python",
   "name": "ngc-pytorch-1.9"
  },
  "language_info": {
   "codemirror_mode": {
    "name": "ipython",
    "version": 3
   },
   "file_extension": ".py",
   "mimetype": "text/x-python",
   "name": "python",
   "nbconvert_exporter": "python",
   "pygments_lexer": "ipython3",
   "version": "3.8.8"
  }
 },
 "nbformat": 4,
 "nbformat_minor": 4
}
