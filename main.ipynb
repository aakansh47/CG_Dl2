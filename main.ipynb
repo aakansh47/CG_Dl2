{
 "cells": [
  {
   "cell_type": "code",
   "execution_count": 1,
   "metadata": {},
   "outputs": [],
   "source": [
    "import os\n",
    "import glob\n",
    "import torchvision.transforms as transforms\n",
    "from torch.utils.data import DataLoader, ConcatDataset\n",
    "from settings import setting\n",
    "\n",
    "def data_loading():\n",
    "    images_path = glob.glob(r'face_images/*.jpg')\n",
    "    print(\"Total Number of Images\", len(images_path))\n",
    "    setting().train_test_split()\n",
    "    \n",
    "    training_images_path = glob.glob('images/train/class/*.jpg')\n",
    "    test_images_path = glob.glob('images/test/class/*.jpg')\n",
    "    \n",
    "    print(\"Total Number of training images\", len(training_images_path))\n",
    "    print(\"Total Number of testing images\", len(training_images_path))\n",
    "   \n",
    "def augmentation(cuda = False, num_workers = 1,\n",
    "                 activation_function = Constants.SIGMOID):\n",
<<<<<<< HEAD
    "          \n",
<<<<<<< HEAD
=======
    "        \n",
    "        \n",
>>>>>>> 17ac14cbca252651cefc533c32653cebbe2c2c82
    "        transform = transforms.Compose([\n",
    "        transforms.Resize(128),\n",
    "        transforms.RandomHorizontalFlip(),\n",
    "        transforms.RandomResizedCrop(128)\n",
=======
    "                transform = transforms.Compose([\n",
    "                transforms.Resize(128),\n",
    "                transforms.RandomHorizontalFlip(),\n",
    "                transforms.RandomResizedCrop(128)\n",
>>>>>>> ca9222aa100b5f39d7909339b2dfcacb7d93133a
    "         ])\n",
    "        \n",
    "    training_images = []\n",
    "    # if condition can be inserted for multiple activation functions\n",
    "    training_images.append(augmentation.Augment('images/train'))\n",
    "    for i in range(9):\n",
    "        training_images.append(augmentation.Augment('images/train',transform))\n",
    "        \n",
    "    augmented_dataset = ConcatDataset(train_datasets)\n",
    "    print('Length of new Augmented Data', len(augmented_dataset))\n",
    "\n",
    "    train_loader_args = dict(shuffle=True,\n",
    "                             batch_size=Constants.REGRESSOR_BATCH_SIZE_CUDA,\n",
    "                             num_workers=num_workers, pin_memory=True) \\\n",
    "        if cuda else dict(shuffle=True, batch_size=Constants.REGRESSOR_BATCH_SIZE_CPU)\n",
    "\n",
    "    augmented_batch_train = DataLoader(dataset=augmented_dataset, **train_loader_args)\n",
    "    # augmented_dataset_batch_val = DataLoader(dataset=buildDataset.AugmentImageDataset('data/val'))\n",
    "    augmented_batch_test = DataLoader(dataset=augmentation.Augment('images/test'))\n",
    "\n",
    "    return augmented_batch_train, augmented_batch_test\n",
    "\n",
    "if __name__ == '__main__':\n",
    "    data_loading()\n",
    "   "
   ]
  },
  {
   "cell_type": "code",
   "execution_count": 2,
   "metadata": {},
   "outputs": [],
   "source": [
    "\n",
    "\n",
    "    "
   ]
  },
  {
   "cell_type": "code",
   "execution_count": null,
   "metadata": {},
   "outputs": [],
   "source": [
    "\n"
   ]
  },
  {
   "cell_type": "code",
   "execution_count": 3,
   "metadata": {},
   "outputs": [
    {
     "name": "stdout",
     "output_type": "stream",
     "text": [
      "Total Number of Images 750\n"
     ]
    }
   ],
   "source": []
  },
  {
   "cell_type": "code",
   "execution_count": null,
   "metadata": {},
   "outputs": [],
   "source": []
  }
 ],
 "metadata": {
  "kernelspec": {
   "display_name": "NGC-PyTorch-1.9",
   "language": "python",
   "name": "ngc-pytorch-1.9"
  },
  "language_info": {
   "codemirror_mode": {
    "name": "ipython",
    "version": 3
   },
   "file_extension": ".py",
   "mimetype": "text/x-python",
   "name": "python",
   "nbconvert_exporter": "python",
   "pygments_lexer": "ipython3",
   "version": "3.8.8"
  }
 },
 "nbformat": 4,
 "nbformat_minor": 4
}
