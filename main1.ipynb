{
 "cells": [
  {
   "cell_type": "code",
   "execution_count": null,
   "metadata": {},
   "outputs": [],
   "source": [
    "import glob\n",
    "\n",
    "def data_loading():\n",
    "   \n",
    "\n",
    "    images_path = glob.glob(r'face_images/*.jpg')\n",
    "    print(\"Total Number of Images\", len(images_path))\n",
    "    utils().train_test_split()\n",
    "    \n",
    "    training_images_path = glob.glob('data/train/class/*.jpg')\n",
    "    test_images_path = glob.glob('data/test/class/*.jpg')\n",
    "    \n",
    "    print(\"Total Number of training images\", len(training_images_path))\n",
    "    print(\"Total Number of testing images\", len(training_images_path))\n",
    "    \n",
    "\n",
    "def augmentation(cuda = False, num_workers = 1,\n",
    "                 activation_function = Constants.SIGMOID):\n",
    "          \n",
    "        transform = transforms.Compose([\n",
    "        transforms.Resize(128),\n",
    "        transforms.RandomHorizontalFlip(),\n",
    "        transforms.RandomResizedCrop(128)\n",
    "         ])\n",
    "        \n",
    "    training_images = []\n",
    "    # if condition can be inserted for multiple activation functions\n",
    "    training_images.append(buildDataset.Augment('data/train'))\n",
    "    for i in range(9):\n",
    "        training_images.append(buildDataset.Augment('data/train',transform))\n",
    "        \n",
    "    augmented_dataset = ConcatDataset(train_datasets)\n",
    "    print('Length of new Augmented Data', len(augmented_dataset))"
   ]
  }
 ],
 "metadata": {
  "language_info": {
   "name": "plaintext"
  },
  "orig_nbformat": 4
 },
 "nbformat": 4,
 "nbformat_minor": 2
}
