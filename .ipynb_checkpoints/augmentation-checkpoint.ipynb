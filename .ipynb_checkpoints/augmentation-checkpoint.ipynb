{
 "cells": [
  {
   "cell_type": "code",
   "execution_count": null,
   "metadata": {},
   "outputs": [],
   "source": [
    "import numpy as np\n",
    "import torch\n",
    "from skimage.color import rgb2lab, rgb2gray\n",
    "from torchvision import datasets"
   ]
  },
  {
   "cell_type": "code",
   "execution_count": null,
   "metadata": {},
   "outputs": [],
   "source": [
    "class Augment(datasets.ImageFolder):\n",
    "    def __getitem__(self, index):\n",
    "        global img_a, img_b, img_gray\n",
    "        path, target = self.imgs[index]\n",
    "        img = self.loader(path)\n",
    "        if self.transform is not None:\n",
    "            img = self.transform(img)\n",
    "\n",
    "        original_image = np.asarray(img)\n",
    "\n",
    "        img_lab = rgb2lab(original_image)\n",
    "        img_lab = img_lab + 128\n",
    "        img_lab = img_lab / 255\n",
    "\n",
    "        img_a = img_lab[:, :, 1:2]\n",
    "        img_a = torch.from_numpy(img_a.transpose((2, 0, 1))).float()  # To match the channel dimensions\n",
    "\n",
    "        img_b = img_lab[:, :, 2:3]\n",
    "        # plt.imshow(img_b)\n",
    "        # plt.show()\n",
    "        img_b = torch.from_numpy(img_b.transpose((2, 0, 1))).float()\n",
    "\n",
    "        img_gray = rgb2gray(original_image)\n",
    "        # plt.imshow(img_gray)\n",
    "        # plt.show()\n",
    "        img_gray = torch.from_numpy(img_gray).unsqueeze(0).float()\n",
    "\n",
    "        return img_gray, img_a, img_b"
   ]
  }
 ],
 "metadata": {
  "kernelspec": {
   "display_name": "NGC-PyTorch-1.9",
   "language": "python",
   "name": "ngc-pytorch-1.9"
  },
  "language_info": {
   "codemirror_mode": {
    "name": "ipython",
    "version": 3
   },
   "file_extension": ".py",
   "mimetype": "text/x-python",
   "name": "python",
   "nbconvert_exporter": "python",
   "pygments_lexer": "ipython3",
   "version": "3.8.8"
  }
 },
 "nbformat": 4,
 "nbformat_minor": 4
}
